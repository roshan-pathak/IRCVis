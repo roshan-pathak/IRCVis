{
 "cells": [
  {
   "cell_type": "markdown",
   "id": "e11455dd",
   "metadata": {},
   "source": [
    "# Residue Interaction Network Plotter for MD Simulations"
   ]
  },
  {
   "cell_type": "markdown",
   "id": "7359e64d",
   "metadata": {},
   "source": [
    "The following notebook is composed of functions from the MDAnalysis and ProLif documentations that are altered to take inputs for your protien of interest. \n",
    "**NOTE** Be careful with your selections! When selecting for a specific segid or residue type, make sure you have an intimate knowledge of your own topology and trjaectory files.\n",
    "\n",
    "Citations:\n",
    "Bouysset, C., Fiorucci, S. ProLIF: a library to encode molecular interactions as fingerprints.\n",
    "J Cheminform 13, 72 (2021). https://doi.org/10.1186/s13321-021-00548-6\n",
    "N. Michaud-Agrawal, E. J. Denning, T. B. Woolf, and O. Beckstein. MDAnalysis: A Toolkit for the Analysis of Molecular Dynamics Simulations. J. Comput. Chem. 32 (2011), 2319–2327. doi:10.1002/jcc.21787\n",
    "R. J. Gowers, M. Linke, J. Barnoud, T. J. E. Reddy, M. N. Melo, S. L. Seyler, D. L. Dotson, J. Domanski, S. Buchoux, I. M. Kenney, and O. Beckstein. MDAnalysis: A Python package for the rapid analysis of molecular dynamics simulations. In S. Benthall and S. Rostrup, editors, Proceedings of the 15th Python in Science Conference, pages 98-105, Austin, TX, 2016. SciPy. doi:10.25080/Majora-629e541a-00e"
   ]
  },
  {
   "cell_type": "markdown",
   "id": "0b2b864e",
   "metadata": {},
   "source": [
    "### Remember to run in a folder with your desired PSF and DCD file."
   ]
  },
  {
   "cell_type": "code",
   "execution_count": 17,
   "id": "0a77f546",
   "metadata": {},
   "outputs": [],
   "source": [
    "import glob\n",
    "import MDAnalysis as mda\n",
    "import prolif as plf\n",
    "import pandas as pd\n",
    "import numpy as np\n",
    "import networkx as nx\n",
    "from pyvis.network import Network\n",
    "from matplotlib import cm, colors\n",
    "from IPython.display import IFrame\n",
    "from MDAnalysis.topology.guessers import guess_types"
   ]
  },
  {
   "cell_type": "markdown",
   "id": "fe7b2c06",
   "metadata": {},
   "source": [
    "### Making a Universe"
   ]
  },
  {
   "cell_type": "markdown",
   "id": "ef11e83c",
   "metadata": {},
   "source": [
    "MDAnalysis requires a topology file (such as a psf) and a trajectory file (like a dcd). The cells below will display the current working directory and the files inside. Please make sure your desired topology and trajectory files are inside. "
   ]
  },
  {
   "cell_type": "code",
   "execution_count": 2,
   "id": "444825ff",
   "metadata": {
    "scrolled": true
   },
   "outputs": [
    {
     "data": {
      "text/plain": [
       "'/mnt/c/users/rosha/desktop/MDContact'"
      ]
     },
     "execution_count": 2,
     "metadata": {},
     "output_type": "execute_result"
    }
   ],
   "source": [
    "%pwd\n"
   ]
  },
  {
   "cell_type": "code",
   "execution_count": 3,
   "id": "42cf07dc",
   "metadata": {},
   "outputs": [
    {
     "name": "stdout",
     "output_type": "stream",
     "text": [
      "\u001b[0m\u001b[01;32mUntitled.ipynb\u001b[0m*  \u001b[01;32mfinal_eq.dcd\u001b[0m*  \u001b[34;42mprodigy\u001b[0m/  \u001b[01;32msystem_autopsf.psf\u001b[0m*\r\n"
     ]
    }
   ],
   "source": [
    "%ls"
   ]
  },
  {
   "cell_type": "code",
   "execution_count": 7,
   "id": "fbfbb4ae",
   "metadata": {
    "scrolled": true
   },
   "outputs": [
    {
     "name": "stdout",
     "output_type": "stream",
     "text": [
      "Please input the filename of your topology file with its specified file tag. For example, a psf called \"file\" should be exactly written as \"file.psf\"system_autopsf.psf\n"
     ]
    }
   ],
   "source": [
    "top = input('Please input the filename of your topology file with its specified file tag. For example, a psf called \"file\" should be exactly written as \"file.psf\"')"
   ]
  },
  {
   "cell_type": "code",
   "execution_count": 6,
   "id": "078ad539",
   "metadata": {},
   "outputs": [
    {
     "name": "stdout",
     "output_type": "stream",
     "text": [
      "Please input the filename of your trajectory file with its specified file tag. For example, a dcd called \"traj\" should be exactly written as \"traj.dcd\"final_eq.dcd\n"
     ]
    }
   ],
   "source": [
    "dcd = input('Please input the filename of your trajectory file with its specified file tag. For example, a dcd called \"traj\" should be exactly written as \"traj.dcd\"')"
   ]
  },
  {
   "cell_type": "code",
   "execution_count": 19,
   "id": "1a762777",
   "metadata": {
    "scrolled": true
   },
   "outputs": [
    {
     "name": "stdout",
     "output_type": "stream",
     "text": [
      "['N' 'H' 'H' ... 'O' 'H' 'H']\n"
     ]
    }
   ],
   "source": [
    "# load trajectory\n",
    "u = mda.Universe(top , dcd)\n",
    "guessed_elements = guess_types(u.atoms.names)\n",
    "    \n",
    "u.add_TopologyAttr('elements', guessed_elements)\n",
    "print(u.atoms.elements)  # returns an array of guessed elements"
   ]
  },
  {
   "cell_type": "markdown",
   "id": "8480a8f1",
   "metadata": {},
   "source": [
    "### Selecting center of interaction"
   ]
  },
  {
   "cell_type": "markdown",
   "id": "ff07bc17",
   "metadata": {},
   "source": [
    "Enter your selection (ex. 'segid A and resid 1:100') and step size (in frames) for reading your trajectory. For information on how to format your selection, use: https://userguide.mdanalysis.org/1.0.0/selections.html."
   ]
  },
  {
   "cell_type": "code",
   "execution_count": 50,
   "id": "25f8ac16",
   "metadata": {},
   "outputs": [
    {
     "name": "stdout",
     "output_type": "stream",
     "text": [
      "Please input your selectionsegid XP1 and resid 1:100\n"
     ]
    }
   ],
   "source": [
    "sele = input('Please input your selection')\n"
   ]
  },
  {
   "cell_type": "code",
   "execution_count": 45,
   "id": "3918d171",
   "metadata": {},
   "outputs": [
    {
     "name": "stdout",
     "output_type": "stream",
     "text": [
      "Choose the step size for reading your trajectory in frames. For example, inputting \"1\" will read your trajectory every 1 frame.2\n"
     ]
    }
   ],
   "source": [
    "itr = int(input('Choose the step size for reading your trajectory in frames. For example, inputting \"1\" will read your trajectory every 1 frame.'))\n"
   ]
  },
  {
   "cell_type": "code",
   "execution_count": 51,
   "id": "09f67ae0",
   "metadata": {},
   "outputs": [
    {
     "name": "stdout",
     "output_type": "stream",
     "text": [
      "<AtomGroup [<Atom 1: N of type NH3 of resname MET, resid 17 and segid XP1>, <Atom 2: HT1 of type HC of resname MET, resid 17 and segid XP1>, <Atom 3: HT2 of type HC of resname MET, resid 17 and segid XP1>, ..., <Atom 1252: HZ3 of type HC of resname LYS, resid 100 and segid XP1>, <Atom 1253: C of type C of resname LYS, resid 100 and segid XP1>, <Atom 1254: O of type O of resname LYS, resid 100 and segid XP1>]>\n"
     ]
    },
    {
     "data": {
      "application/vnd.jupyter.widget-view+json": {
       "model_id": "5222aea7f72b4cfeb1d96d731cbfe1ce",
       "version_major": 2,
       "version_minor": 0
      },
      "text/plain": [
       "  0%|          | 0/100 [00:00<?, ?it/s]"
      ]
     },
     "metadata": {},
     "output_type": "display_data"
    },
    {
     "data": {
      "text/html": [
       "<div>\n",
       "<style scoped>\n",
       "    .dataframe tbody tr th:only-of-type {\n",
       "        vertical-align: middle;\n",
       "    }\n",
       "\n",
       "    .dataframe tbody tr th {\n",
       "        vertical-align: top;\n",
       "    }\n",
       "\n",
       "    .dataframe thead tr th {\n",
       "        text-align: left;\n",
       "    }\n",
       "\n",
       "    .dataframe thead tr:last-of-type th {\n",
       "        text-align: right;\n",
       "    }\n",
       "</style>\n",
       "<table border=\"1\" class=\"dataframe\">\n",
       "  <thead>\n",
       "    <tr>\n",
       "      <th>ligand</th>\n",
       "      <th colspan=\"4\" halign=\"left\">MET17</th>\n",
       "      <th colspan=\"5\" halign=\"left\">ILE18</th>\n",
       "      <th>TRP19</th>\n",
       "      <th>...</th>\n",
       "      <th colspan=\"2\" halign=\"left\">ASN79</th>\n",
       "      <th colspan=\"3\" halign=\"left\">ASP84</th>\n",
       "      <th>LEU95</th>\n",
       "      <th>GLY99</th>\n",
       "      <th colspan=\"3\" halign=\"left\">LYS100</th>\n",
       "    </tr>\n",
       "    <tr>\n",
       "      <th>protein</th>\n",
       "      <th colspan=\"2\" halign=\"left\">LYS109</th>\n",
       "      <th colspan=\"2\" halign=\"left\">LYS110</th>\n",
       "      <th>LYS109</th>\n",
       "      <th colspan=\"4\" halign=\"left\">LYS110</th>\n",
       "      <th>ARG107</th>\n",
       "      <th>...</th>\n",
       "      <th colspan=\"2\" halign=\"left\">LYS103</th>\n",
       "      <th colspan=\"3\" halign=\"left\">ARG107</th>\n",
       "      <th>ILE104</th>\n",
       "      <th>ASN101</th>\n",
       "      <th colspan=\"3\" halign=\"left\">ASN101</th>\n",
       "    </tr>\n",
       "    <tr>\n",
       "      <th>interaction</th>\n",
       "      <th>Hydrophobic</th>\n",
       "      <th>VdWContact</th>\n",
       "      <th>Cationic</th>\n",
       "      <th>VdWContact</th>\n",
       "      <th>VdWContact</th>\n",
       "      <th>Hydrophobic</th>\n",
       "      <th>HBDonor</th>\n",
       "      <th>HBAcceptor</th>\n",
       "      <th>VdWContact</th>\n",
       "      <th>Hydrophobic</th>\n",
       "      <th>...</th>\n",
       "      <th>HBAcceptor</th>\n",
       "      <th>VdWContact</th>\n",
       "      <th>HBAcceptor</th>\n",
       "      <th>Anionic</th>\n",
       "      <th>VdWContact</th>\n",
       "      <th>Hydrophobic</th>\n",
       "      <th>VdWContact</th>\n",
       "      <th>Hydrophobic</th>\n",
       "      <th>HBAcceptor</th>\n",
       "      <th>VdWContact</th>\n",
       "    </tr>\n",
       "    <tr>\n",
       "      <th>Frame</th>\n",
       "      <th></th>\n",
       "      <th></th>\n",
       "      <th></th>\n",
       "      <th></th>\n",
       "      <th></th>\n",
       "      <th></th>\n",
       "      <th></th>\n",
       "      <th></th>\n",
       "      <th></th>\n",
       "      <th></th>\n",
       "      <th></th>\n",
       "      <th></th>\n",
       "      <th></th>\n",
       "      <th></th>\n",
       "      <th></th>\n",
       "      <th></th>\n",
       "      <th></th>\n",
       "      <th></th>\n",
       "      <th></th>\n",
       "      <th></th>\n",
       "      <th></th>\n",
       "    </tr>\n",
       "  </thead>\n",
       "  <tbody>\n",
       "    <tr>\n",
       "      <th>0</th>\n",
       "      <td>True</td>\n",
       "      <td>True</td>\n",
       "      <td>False</td>\n",
       "      <td>False</td>\n",
       "      <td>True</td>\n",
       "      <td>False</td>\n",
       "      <td>False</td>\n",
       "      <td>False</td>\n",
       "      <td>False</td>\n",
       "      <td>True</td>\n",
       "      <td>...</td>\n",
       "      <td>True</td>\n",
       "      <td>True</td>\n",
       "      <td>False</td>\n",
       "      <td>False</td>\n",
       "      <td>False</td>\n",
       "      <td>False</td>\n",
       "      <td>False</td>\n",
       "      <td>False</td>\n",
       "      <td>False</td>\n",
       "      <td>True</td>\n",
       "    </tr>\n",
       "    <tr>\n",
       "      <th>2</th>\n",
       "      <td>True</td>\n",
       "      <td>True</td>\n",
       "      <td>False</td>\n",
       "      <td>False</td>\n",
       "      <td>False</td>\n",
       "      <td>False</td>\n",
       "      <td>False</td>\n",
       "      <td>False</td>\n",
       "      <td>False</td>\n",
       "      <td>True</td>\n",
       "      <td>...</td>\n",
       "      <td>False</td>\n",
       "      <td>True</td>\n",
       "      <td>False</td>\n",
       "      <td>False</td>\n",
       "      <td>False</td>\n",
       "      <td>True</td>\n",
       "      <td>True</td>\n",
       "      <td>False</td>\n",
       "      <td>False</td>\n",
       "      <td>True</td>\n",
       "    </tr>\n",
       "    <tr>\n",
       "      <th>4</th>\n",
       "      <td>True</td>\n",
       "      <td>False</td>\n",
       "      <td>True</td>\n",
       "      <td>True</td>\n",
       "      <td>True</td>\n",
       "      <td>False</td>\n",
       "      <td>True</td>\n",
       "      <td>True</td>\n",
       "      <td>True</td>\n",
       "      <td>True</td>\n",
       "      <td>...</td>\n",
       "      <td>False</td>\n",
       "      <td>True</td>\n",
       "      <td>False</td>\n",
       "      <td>True</td>\n",
       "      <td>False</td>\n",
       "      <td>False</td>\n",
       "      <td>False</td>\n",
       "      <td>False</td>\n",
       "      <td>False</td>\n",
       "      <td>True</td>\n",
       "    </tr>\n",
       "    <tr>\n",
       "      <th>6</th>\n",
       "      <td>True</td>\n",
       "      <td>True</td>\n",
       "      <td>True</td>\n",
       "      <td>True</td>\n",
       "      <td>True</td>\n",
       "      <td>False</td>\n",
       "      <td>True</td>\n",
       "      <td>False</td>\n",
       "      <td>True</td>\n",
       "      <td>True</td>\n",
       "      <td>...</td>\n",
       "      <td>False</td>\n",
       "      <td>True</td>\n",
       "      <td>True</td>\n",
       "      <td>True</td>\n",
       "      <td>True</td>\n",
       "      <td>False</td>\n",
       "      <td>True</td>\n",
       "      <td>False</td>\n",
       "      <td>False</td>\n",
       "      <td>True</td>\n",
       "    </tr>\n",
       "    <tr>\n",
       "      <th>8</th>\n",
       "      <td>True</td>\n",
       "      <td>False</td>\n",
       "      <td>False</td>\n",
       "      <td>True</td>\n",
       "      <td>False</td>\n",
       "      <td>False</td>\n",
       "      <td>True</td>\n",
       "      <td>True</td>\n",
       "      <td>True</td>\n",
       "      <td>True</td>\n",
       "      <td>...</td>\n",
       "      <td>False</td>\n",
       "      <td>True</td>\n",
       "      <td>True</td>\n",
       "      <td>True</td>\n",
       "      <td>True</td>\n",
       "      <td>False</td>\n",
       "      <td>False</td>\n",
       "      <td>False</td>\n",
       "      <td>True</td>\n",
       "      <td>True</td>\n",
       "    </tr>\n",
       "  </tbody>\n",
       "</table>\n",
       "<p>5 rows × 154 columns</p>\n",
       "</div>"
      ],
      "text/plain": [
       "ligand            MET17                                     ILE18              \\\n",
       "protein          LYS109              LYS110                LYS109      LYS110   \n",
       "interaction Hydrophobic VdWContact Cationic VdWContact VdWContact Hydrophobic   \n",
       "Frame                                                                           \n",
       "0                  True       True    False      False       True       False   \n",
       "2                  True       True    False      False      False       False   \n",
       "4                  True      False     True       True       True       False   \n",
       "6                  True       True     True       True       True       False   \n",
       "8                  True      False    False       True      False       False   \n",
       "\n",
       "ligand                                          TRP19  ...      ASN79  \\\n",
       "protein                                        ARG107  ...     LYS103   \n",
       "interaction HBDonor HBAcceptor VdWContact Hydrophobic  ... HBAcceptor   \n",
       "Frame                                                  ...              \n",
       "0             False      False      False        True  ...       True   \n",
       "2             False      False      False        True  ...      False   \n",
       "4              True       True       True        True  ...      False   \n",
       "6              True      False       True        True  ...      False   \n",
       "8              True       True       True        True  ...      False   \n",
       "\n",
       "ligand                      ASP84                          LEU95      GLY99  \\\n",
       "protein                    ARG107                         ILE104     ASN101   \n",
       "interaction VdWContact HBAcceptor Anionic VdWContact Hydrophobic VdWContact   \n",
       "Frame                                                                         \n",
       "0                 True      False   False      False       False      False   \n",
       "2                 True      False   False      False        True       True   \n",
       "4                 True      False    True      False       False      False   \n",
       "6                 True       True    True       True       False       True   \n",
       "8                 True       True    True       True       False      False   \n",
       "\n",
       "ligand           LYS100                        \n",
       "protein          ASN101                        \n",
       "interaction Hydrophobic HBAcceptor VdWContact  \n",
       "Frame                                          \n",
       "0                 False      False       True  \n",
       "2                 False      False       True  \n",
       "4                 False      False       True  \n",
       "6                 False      False       True  \n",
       "8                 False       True       True  \n",
       "\n",
       "[5 rows x 154 columns]"
      ]
     },
     "execution_count": 51,
     "metadata": {},
     "output_type": "execute_result"
    }
   ],
   "source": [
    "selection = u.select_atoms(\"\"+sele+\"\")\n",
    "print(selection)\n",
    "prot = u.select_atoms(\"protein and not group selection\", selection=selection)\n",
    "fp = plf.Fingerprint()\n",
    "### The \"::1\" means that the dcd trajectory will be read every 2 frames.\n",
    "fp.run(u.trajectory[::itr], selection, prot)\n",
    "df = fp.to_dataframe()\n",
    "df.head()"
   ]
  },
  {
   "cell_type": "markdown",
   "id": "ad2756e2",
   "metadata": {},
   "source": [
    "### Produce Residue Interaction Map."
   ]
  },
  {
   "cell_type": "markdown",
   "id": "5aa93343",
   "metadata": {},
   "source": [
    "The script below from PyVis will now make a residue interaction map. The red-tone circles represent your selected residues, while the blue circles are the other interacting residues. Connecting line widths are calculated based on the amount of occurence of the interaction between two residues.  "
   ]
  },
  {
   "cell_type": "code",
   "execution_count": 53,
   "id": "2a9f977c",
   "metadata": {},
   "outputs": [],
   "source": [
    "### Convert pandas dataframe to a NetworkX object\n",
    "def make_graph(\n",
    "    values,\n",
    "    df=None,\n",
    "    node_color=[\"#FFB2AC\", \"#ACD0FF\"],\n",
    "    node_shape=\"dot\",\n",
    "    edge_color=\"#a9a9a9\",\n",
    "    width_multiplier=1,):\n",
    "    lig_res = values.index.get_level_values(\"ligand\").unique().tolist()\n",
    "    prot_res = values.index.get_level_values(\"protein\").unique().tolist()\n",
    "\n",
    "    G = nx.Graph()\n",
    "    # add nodes\n",
    "    # https://pyvis.readthedocs.io/en/latest/documentation.html#pyvis.network.Network.add_node\n",
    "    for res in lig_res:\n",
    "        G.add_node(\n",
    "            res, title=res, shape=node_shape, color=node_color[0], dtype=\"ligand\"\n",
    "        )\n",
    "    for res in prot_res:\n",
    "        G.add_node(\n",
    "            res, title=res, shape=node_shape, color=node_color[1], dtype=\"protein\"\n",
    "        )\n",
    "\n",
    "    for resids, value in values.items():\n",
    "        label = \"{} - {}<br>{}\".format(\n",
    "            *resids,\n",
    "            \"<br>\".join(\n",
    "                [\n",
    "                    f\"{k}: {v}\"\n",
    "                    for k, v in (\n",
    "                        df.xs(resids, level=[\"ligand\", \"protein\"], axis=1)\n",
    "                        .sum()\n",
    "                        .to_dict()\n",
    "                        .items()\n",
    "                    )\n",
    "                ]\n",
    "            ),\n",
    "        )\n",
    "        # https://pyvis.readthedocs.io/en/latest/documentation.html#pyvis.network.Network.add_edge\n",
    "        G.add_edge(\n",
    "            *resids,\n",
    "            title=label,\n",
    "            color=edge_color,\n",
    "            weight=value,\n",
    "            width=value * width_multiplier,\n",
    "        )\n",
    "\n",
    "    return G"
   ]
  },
  {
   "cell_type": "code",
   "execution_count": 54,
   "id": "6ac35238",
   "metadata": {},
   "outputs": [
    {
     "name": "stdout",
     "output_type": "stream",
     "text": [
      "Local cdn resources have problems on chrome/safari when used in jupyter-notebook. \n"
     ]
    },
    {
     "data": {
      "text/html": [
       "\n",
       "        <iframe\n",
       "            width=\"650\"\n",
       "            height=\"510\"\n",
       "            src=\"prot-prot_graph.html\"\n",
       "            frameborder=\"0\"\n",
       "            allowfullscreen\n",
       "            \n",
       "        ></iframe>\n",
       "        "
      ],
      "text/plain": [
       "<IPython.lib.display.IFrame at 0x7fcb527d5b10>"
      ]
     },
     "execution_count": 54,
     "metadata": {},
     "output_type": "execute_result"
    }
   ],
   "source": [
    "data = (\n",
    "    df.groupby(level=[\"ligand\", \"protein\"], axis=1, sort=False)\n",
    "    .sum()\n",
    "    .astype(bool)\n",
    "    .mean()\n",
    ")\n",
    "\n",
    "G = make_graph(data, df, width_multiplier=8)\n",
    "\n",
    "# color each node based on its degree\n",
    "max_nbr = len(max(G.adj.values(), key=lambda x: len(x)))\n",
    "blues = cm.get_cmap(\"Blues\", max_nbr)\n",
    "reds = cm.get_cmap(\"Reds\", max_nbr)\n",
    "for n, d in G.nodes(data=True):\n",
    "    n_neighbors = len(G.adj[n])\n",
    "    # show TM3 in red and the rest of the protein in blue\n",
    "    palette = reds if d[\"dtype\"] == \"ligand\" else blues\n",
    "    d[\"color\"] = colors.to_hex(palette(n_neighbors / max_nbr))\n",
    "\n",
    "# convert to pyvis network\n",
    "net = Network(width=640, height=500, notebook=True, heading=\"\")\n",
    "net.from_nx(G)\n",
    "net.write_html(\"prot-prot_graph.html\")\n",
    "IFrame(\"prot-prot_graph.html\", width=650, height=510)"
   ]
  },
  {
   "cell_type": "code",
   "execution_count": null,
   "id": "ef30b59b",
   "metadata": {},
   "outputs": [],
   "source": [
    "**Note** do the blue circles include residues from the other protein? "
   ]
  }
 ],
 "metadata": {
  "kernelspec": {
   "display_name": "Python 3 (ipykernel)",
   "language": "python",
   "name": "python3"
  },
  "language_info": {
   "codemirror_mode": {
    "name": "ipython",
    "version": 3
   },
   "file_extension": ".py",
   "mimetype": "text/x-python",
   "name": "python",
   "nbconvert_exporter": "python",
   "pygments_lexer": "ipython3",
   "version": "3.10.6"
  }
 },
 "nbformat": 4,
 "nbformat_minor": 5
}
